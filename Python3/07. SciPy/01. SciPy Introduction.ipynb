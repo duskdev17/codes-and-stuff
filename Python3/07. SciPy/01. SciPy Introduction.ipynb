{
 "cells": [
  {
   "cell_type": "code",
   "execution_count": null,
   "metadata": {},
   "outputs": [],
   "source": [
    "What is SciPy?\n",
    "SciPy is a scientific computation library that uses NumPy underneath.\n",
    "\n",
    "SciPy stands for Scientific Python.\n",
    "\n",
    "It provides more utility functions for optimization, stats and signal processing.\n",
    "\n",
    "Like NumPy, SciPy is open source so we can use it freely.\n",
    "\n",
    "SciPy was created by NumPy's creator Travis Olliphant."
   ]
  },
  {
   "cell_type": "code",
   "execution_count": null,
   "metadata": {},
   "outputs": [],
   "source": [
    "Why Use SciPy?\n",
    "If SciPy uses NumPy underneath, why can we not just use NumPy?\n",
    "\n",
    "SciPy has optimized and added functions that are frequently used in NumPy and Data Science.\n",
    "\n",
    "Which Language is SciPy Written in?\n",
    "SciPy is predominantly written in Python, but a few segments are written in C.\n",
    "\n",
    "Where is the SciPy Codebase?\n",
    "The source code for SciPy is located at this github repository https://github.com/scipy/scipy\n",
    "\n",
    "github: enables many people to work on the same codebase."
   ]
  },
  {
   "cell_type": "code",
   "execution_count": null,
   "metadata": {},
   "outputs": [],
   "source": []
  }
 ],
 "metadata": {
  "kernelspec": {
   "display_name": "Python 3",
   "language": "python",
   "name": "python3"
  },
  "language_info": {
   "codemirror_mode": {
    "name": "ipython",
    "version": 3
   },
   "file_extension": ".py",
   "mimetype": "text/x-python",
   "name": "python",
   "nbconvert_exporter": "python",
   "pygments_lexer": "ipython3",
   "version": "3.8.5"
  }
 },
 "nbformat": 4,
 "nbformat_minor": 4
}
