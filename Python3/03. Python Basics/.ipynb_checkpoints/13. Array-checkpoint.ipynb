{
 "cells": [
  {
   "cell_type": "code",
   "execution_count": 3,
   "metadata": {},
   "outputs": [
    {
     "name": "stdout",
     "output_type": "stream",
     "text": [
      "Lexus\n",
      "3\n"
     ]
    }
   ],
   "source": [
    "cars = [\"BMW\", \"Lmabo\", \"Lexus\"]\n",
    "\n",
    "print(cars[2])\n",
    "\n",
    "print(len(cars))"
   ]
  },
  {
   "cell_type": "code",
   "execution_count": 5,
   "metadata": {},
   "outputs": [
    {
     "name": "stdout",
     "output_type": "stream",
     "text": [
      "BMW\n",
      "Lmabo\n",
      "Lexus\n",
      "Aston Martin\n"
     ]
    }
   ],
   "source": [
    "cars.append(\"Aston Martin\")\n",
    "\n",
    "for x in cars:\n",
    "    print(x)"
   ]
  },
  {
   "cell_type": "code",
   "execution_count": 6,
   "metadata": {},
   "outputs": [
    {
     "name": "stdout",
     "output_type": "stream",
     "text": [
      "BMW\n",
      "Lmabo\n",
      "Aston Martin\n"
     ]
    }
   ],
   "source": [
    "cars.pop(2)\n",
    "\n",
    "for x in cars:\n",
    "    print(x)"
   ]
  },
  {
   "cell_type": "code",
   "execution_count": 33,
   "metadata": {
    "scrolled": false
   },
   "outputs": [
    {
     "name": "stdout",
     "output_type": "stream",
     "text": [
      "Fortnite\n",
      "Valorant\n",
      "WarZone\n",
      "Zero Hour\n",
      "abc\n",
      "bam\n"
     ]
    }
   ],
   "source": [
    "games = [\"abc\", \"Fortnite\", \"Valorant\", \"WarZone\", \"Zero Hour\", \"bam\"]\n",
    "\n",
    "games.sort()\n",
    "#games.remove(\"WarZone\")\n",
    "\n",
    "for x in games:\n",
    "    print(x)"
   ]
  },
  {
   "cell_type": "code",
   "execution_count": 17,
   "metadata": {},
   "outputs": [],
   "source": [
    "list = [1, 2, 3, 43, 4, 6, 2]\n",
    "\n",
    "list.sort()\n",
    "list.reverse()\n",
    "\n",
    "for x in list:\n",
    "    print(x)"
   ]
  },
  {
   "cell_type": "code",
   "execution_count": 20,
   "metadata": {},
   "outputs": [],
   "source": [
    "list = [1, 2, 3, 43, 4, 6, 2]\n",
    "\n",
    "list.clear()\n",
    "\n",
    "for x in list:\n",
    "    print(x)"
   ]
  },
  {
   "cell_type": "code",
   "execution_count": 24,
   "metadata": {},
   "outputs": [
    {
     "name": "stdout",
     "output_type": "stream",
     "text": [
      "Fortnite\n",
      "Valorant\n",
      "WarZone\n",
      "Zero Hour\n"
     ]
    }
   ],
   "source": [
    "games1 = [\"Fortnite\", \"Valorant\", \"WarZone\", \"Zero Hour\"]\n",
    "\n",
    "games2 = games1.copy()\n",
    "\n",
    "for x in games2:\n",
    "    print(x)"
   ]
  },
  {
   "cell_type": "code",
   "execution_count": 26,
   "metadata": {},
   "outputs": [
    {
     "name": "stdout",
     "output_type": "stream",
     "text": [
      "3\n"
     ]
    }
   ],
   "source": [
    "online_games = [\"Fortnite\", \"Valorant\", \"WarZone\", \"Zero Hour\", \"Valorant\", \"Valorant\"]\n",
    "\n",
    "x = online_games.count(\"Valorant\")\n",
    "\n",
    "print(x)"
   ]
  },
  {
   "cell_type": "code",
   "execution_count": 29,
   "metadata": {},
   "outputs": [
    {
     "name": "stdout",
     "output_type": "stream",
     "text": [
      "Valorant\n",
      "Valorant\n",
      "Zero Hour\n",
      "WarZone\n",
      "Valorant\n",
      "Fortnite\n",
      "2\n",
      "6\n",
      "4\n",
      "43\n",
      "3\n",
      "2\n",
      "1\n"
     ]
    }
   ],
   "source": [
    "online_games = [\"Fortnite\", \"Valorant\", \"WarZone\", \"Zero Hour\", \"Valorant\", \"Valorant\"]\n",
    "list = [1, 2, 3, 43, 4, 6, 2]\n",
    "\n",
    "list.extend(online_games)\n",
    "list.reverse()\n",
    "\n",
    "for x in list:\n",
    "    print(x)"
   ]
  },
  {
   "cell_type": "code",
   "execution_count": 34,
   "metadata": {},
   "outputs": [
    {
     "name": "stdout",
     "output_type": "stream",
     "text": [
      "3\n"
     ]
    }
   ],
   "source": [
    "online_games = [\"Fortnite\", \"Valorant\", \"WarZone\", \"Zero Hour\", \"Valorant\", \"Valorant\"]\n",
    "\n",
    "x = online_games.index(\"Zero Hour\")\n",
    "\n",
    "print(x)"
   ]
  },
  {
   "cell_type": "code",
   "execution_count": 36,
   "metadata": {},
   "outputs": [
    {
     "name": "stdout",
     "output_type": "stream",
     "text": [
      "Fortnite\n",
      "Valorant\n",
      "WarZone\n",
      "Zero Hour\n",
      "Valorant\n",
      "Valorant\n",
      "Gears of War\n"
     ]
    }
   ],
   "source": [
    "online_games = [\"Fortnite\", \"Valorant\", \"WarZone\", \"Zero Hour\", \"Valorant\", \"Valorant\"]\n",
    "\n",
    "online_games.insert(0, \"Gears of War\")\n",
    "\n",
    "for x in online_games:\n",
    "    print(x)"
   ]
  },
  {
   "cell_type": "code",
   "execution_count": null,
   "metadata": {},
   "outputs": [],
   "source": []
  }
 ],
 "metadata": {
  "kernelspec": {
   "display_name": "Python 3",
   "language": "python",
   "name": "python3"
  },
  "language_info": {
   "codemirror_mode": {
    "name": "ipython",
    "version": 3
   },
   "file_extension": ".py",
   "mimetype": "text/x-python",
   "name": "python",
   "nbconvert_exporter": "python",
   "pygments_lexer": "ipython3",
   "version": "3.8.5"
  }
 },
 "nbformat": 4,
 "nbformat_minor": 4
}
