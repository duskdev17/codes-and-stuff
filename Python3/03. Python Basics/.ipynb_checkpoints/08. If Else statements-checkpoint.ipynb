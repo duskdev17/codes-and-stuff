{
 "cells": [
  {
   "cell_type": "code",
   "execution_count": 1,
   "metadata": {},
   "outputs": [
    {
     "name": "stdout",
     "output_type": "stream",
     "text": [
      "x is greater than 100\n"
     ]
    }
   ],
   "source": [
    "x = 200\n",
    "\n",
    "if x > 100:\n",
    "    print(\"x is greater than 100\")\n",
    "else:\n",
    "    print(\"not greater than 100\")"
   ]
  },
  {
   "cell_type": "code",
   "execution_count": 6,
   "metadata": {},
   "outputs": [
    {
     "name": "stdout",
     "output_type": "stream",
     "text": [
      "x is greater than 100\n",
      "x is greater than 150\n",
      "x is greater than 175\n",
      "Instead this got executed\n"
     ]
    }
   ],
   "source": [
    "x = 200\n",
    "\n",
    "if x > 100:\n",
    "    print(\"x is greater than 100\")\n",
    "    if x > 150:\n",
    "        print(\"x is greater than 150\")\n",
    "        if x > 175:\n",
    "            print(\"x is greater than 175\")\n",
    "            if x > 200:\n",
    "                print(\"Finally, it shouldn't be executed\")\n",
    "            else:\n",
    "                print(\"Instead this got executed\")"
   ]
  },
  {
   "cell_type": "code",
   "execution_count": 16,
   "metadata": {},
   "outputs": [
    {
     "name": "stdout",
     "output_type": "stream",
     "text": [
      "Not executed\n"
     ]
    },
    {
     "name": "stderr",
     "output_type": "stream",
     "text": [
      "'pass' is not recognized as an internal or external command,\n",
      "operable program or batch file.\n"
     ]
    }
   ],
   "source": [
    "a = 1\n",
    "b = 4\n",
    "\n",
    "if a>b:\n",
    "    pass\n",
    "    print(\"a is greater than b\")\n",
    "else:\n",
    "    print(\"Not executed\")"
   ]
  },
  {
   "cell_type": "code",
   "execution_count": null,
   "metadata": {},
   "outputs": [],
   "source": []
  }
 ],
 "metadata": {
  "kernelspec": {
   "display_name": "Python 3",
   "language": "python",
   "name": "python3"
  },
  "language_info": {
   "codemirror_mode": {
    "name": "ipython",
    "version": 3
   },
   "file_extension": ".py",
   "mimetype": "text/x-python",
   "name": "python",
   "nbconvert_exporter": "python",
   "pygments_lexer": "ipython3",
   "version": "3.8.5"
  }
 },
 "nbformat": 4,
 "nbformat_minor": 4
}
