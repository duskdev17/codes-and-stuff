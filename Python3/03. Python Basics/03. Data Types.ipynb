{
 "cells": [
  {
   "cell_type": "code",
   "execution_count": 22,
   "metadata": {},
   "outputs": [
    {
     "name": "stdout",
     "output_type": "stream",
     "text": [
      "Hello, I am testing string\n",
      "<class 'str'>\n"
     ]
    }
   ],
   "source": [
    "#text type string: str\n",
    "\n",
    "a = \"Hello, I am testing string\"\n",
    "\n",
    "print(a)\n",
    "print(type(a))"
   ]
  },
  {
   "cell_type": "code",
   "execution_count": 18,
   "metadata": {},
   "outputs": [
    {
     "name": "stdout",
     "output_type": "stream",
     "text": [
      "40\n",
      "<class 'int'>\n"
     ]
    }
   ],
   "source": [
    "#Numeric type: int, float, complex\n",
    "\n",
    "#int\n",
    "\n",
    "b = 40\n",
    "print(b)\n",
    "print(type(b))"
   ]
  },
  {
   "cell_type": "code",
   "execution_count": 17,
   "metadata": {},
   "outputs": [
    {
     "name": "stdout",
     "output_type": "stream",
     "text": [
      "21.32\n",
      "<class 'float'>\n"
     ]
    }
   ],
   "source": [
    "#float\n",
    "\n",
    "c = 21.32\n",
    "print(c)\n",
    "print(type(c))"
   ]
  },
  {
   "cell_type": "code",
   "execution_count": 16,
   "metadata": {},
   "outputs": [
    {
     "name": "stdout",
     "output_type": "stream",
     "text": [
      "61.32\n",
      "<class 'float'>\n"
     ]
    }
   ],
   "source": [
    "print(b+c)\n",
    "print(type(b+c))"
   ]
  },
  {
   "cell_type": "code",
   "execution_count": 21,
   "metadata": {},
   "outputs": [
    {
     "name": "stdout",
     "output_type": "stream",
     "text": [
      "4j\n",
      "<class 'complex'>\n"
     ]
    }
   ],
   "source": [
    "#complex\n",
    "\n",
    "d = 4j\n",
    "print(d)\n",
    "print(type(d))"
   ]
  },
  {
   "cell_type": "code",
   "execution_count": 2,
   "metadata": {},
   "outputs": [
    {
     "name": "stdout",
     "output_type": "stream",
     "text": [
      "['windows', 'mac', 'linux']\n",
      "<class 'list'>\n"
     ]
    }
   ],
   "source": [
    "#Sequence types: list, tuple, range\n",
    "\n",
    "#list\n",
    "\n",
    "f = [\"windows\", \"mac\", \"linux\"]\n",
    "\n",
    "print(f)\n",
    "print(type(f))"
   ]
  },
  {
   "cell_type": "code",
   "execution_count": 3,
   "metadata": {},
   "outputs": [
    {
     "name": "stdout",
     "output_type": "stream",
     "text": [
      "('windows', 'mac', 'linux')\n",
      "<class 'tuple'>\n"
     ]
    }
   ],
   "source": [
    "#tuple\n",
    "\n",
    "g = (\"windows\", \"mac\", \"linux\")\n",
    "\n",
    "print(g)\n",
    "print(type(g))"
   ]
  },
  {
   "cell_type": "code",
   "execution_count": 5,
   "metadata": {},
   "outputs": [
    {
     "name": "stdout",
     "output_type": "stream",
     "text": [
      "range(0, 99)\n",
      "<class 'range'>\n"
     ]
    }
   ],
   "source": [
    "#range\n",
    "\n",
    "h = range(99)\n",
    "\n",
    "print(h)\n",
    "print(type(h))"
   ]
  },
  {
   "cell_type": "code",
   "execution_count": 7,
   "metadata": {},
   "outputs": [
    {
     "name": "stdout",
     "output_type": "stream",
     "text": [
      "{'name': 'Anik', 'age': '19'}\n",
      "<class 'dict'>\n"
     ]
    }
   ],
   "source": [
    "#map/dict\n",
    "\n",
    "i = {\"name\" : \"Anik\", \"age\" : \"19\"}\n",
    "\n",
    "print(i)\n",
    "print(type(i))"
   ]
  },
  {
   "cell_type": "code",
   "execution_count": 8,
   "metadata": {},
   "outputs": [
    {
     "name": "stdout",
     "output_type": "stream",
     "text": [
      "{'windows', 'mac', 'linux'}\n",
      "<class 'set'>\n"
     ]
    }
   ],
   "source": [
    "#set types: set, frozenset\n",
    "\n",
    "#set\n",
    "j = {\"windows\", \"mac\", \"linux\"}\n",
    "\n",
    "print(j)\n",
    "print(type(j))"
   ]
  },
  {
   "cell_type": "code",
   "execution_count": 9,
   "metadata": {},
   "outputs": [
    {
     "name": "stdout",
     "output_type": "stream",
     "text": [
      "{'macOS', 'windows', 'linux'}\n",
      "<class 'set'>\n"
     ]
    }
   ],
   "source": [
    "#frozenset\n",
    "\n",
    "k = ({\"windows\", \"macOS\", \"linux\"})\n",
    "\n",
    "print(k)\n",
    "print(type(k))"
   ]
  },
  {
   "cell_type": "code",
   "execution_count": 18,
   "metadata": {},
   "outputs": [
    {
     "name": "stdout",
     "output_type": "stream",
     "text": [
      "True False\n",
      "<class 'bool'>\n"
     ]
    }
   ],
   "source": [
    "#Booleans\n",
    "\n",
    "l = True\n",
    "m = False\n",
    "\n",
    "print(l,m)\n",
    "print(type(l))"
   ]
  },
  {
   "cell_type": "code",
   "execution_count": 19,
   "metadata": {},
   "outputs": [
    {
     "name": "stdout",
     "output_type": "stream",
     "text": [
      "b'test'\n",
      "<class 'bytes'>\n"
     ]
    }
   ],
   "source": [
    "#Binarytypes: bytes, bytesarray, memoryview\n",
    "\n",
    "#byte\n",
    "\n",
    "n= b\"test\"\n",
    "\n",
    "print(n)\n",
    "print(type(n))"
   ]
  },
  {
   "cell_type": "code",
   "execution_count": 20,
   "metadata": {},
   "outputs": [
    {
     "name": "stdout",
     "output_type": "stream",
     "text": [
      "bytearray(b'\\x00\\x00')\n",
      "<class 'bytearray'>\n"
     ]
    }
   ],
   "source": [
    "#bytearray\n",
    "\n",
    "o = bytearray(2)\n",
    "\n",
    "print(o)\n",
    "print(type(o))"
   ]
  },
  {
   "cell_type": "code",
   "execution_count": 26,
   "metadata": {},
   "outputs": [
    {
     "name": "stdout",
     "output_type": "stream",
     "text": [
      "<memory at 0x000002097D4C5940>\n",
      "<class 'memoryview'>\n"
     ]
    }
   ],
   "source": [
    "#memoryview\n",
    "\n",
    "p = memoryview(bytes(32))\n",
    "\n",
    "print(p)\n",
    "print(type(p))"
   ]
  },
  {
   "cell_type": "code",
   "execution_count": null,
   "metadata": {},
   "outputs": [],
   "source": []
  }
 ],
 "metadata": {
  "kernelspec": {
   "display_name": "Python 3",
   "language": "python",
   "name": "python3"
  },
  "language_info": {
   "codemirror_mode": {
    "name": "ipython",
    "version": 3
   },
   "file_extension": ".py",
   "mimetype": "text/x-python",
   "name": "python",
   "nbconvert_exporter": "python",
   "pygments_lexer": "ipython3",
   "version": "3.8.5"
  }
 },
 "nbformat": 4,
 "nbformat_minor": 4
}
