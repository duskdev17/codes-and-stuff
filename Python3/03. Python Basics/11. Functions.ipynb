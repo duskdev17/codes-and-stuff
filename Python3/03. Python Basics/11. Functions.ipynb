{
 "cells": [
  {
   "cell_type": "code",
   "execution_count": 4,
   "metadata": {},
   "outputs": [
    {
     "name": "stdout",
     "output_type": "stream",
     "text": [
      "54\n",
      "my name is anik\n"
     ]
    }
   ],
   "source": [
    "#functions\n",
    "\n",
    "def my_function():\n",
    "    print(\"my name is anik\")\n",
    "    \n",
    "my_function()"
   ]
  },
  {
   "cell_type": "code",
   "execution_count": 8,
   "metadata": {},
   "outputs": [
    {
     "name": "stdout",
     "output_type": "stream",
     "text": [
      "I <3 python\n"
     ]
    }
   ],
   "source": [
    "#one parameters\n",
    "\n",
    "def py_lovers(name):\n",
    "    print(name + \"<3 python\")\n",
    "    \n",
    "    \n",
    "py_lovers(\"I \")"
   ]
  },
  {
   "cell_type": "code",
   "execution_count": 10,
   "metadata": {},
   "outputs": [
    {
     "name": "stdout",
     "output_type": "stream",
     "text": [
      "Anik loves python, but Nick loves cpp\n"
     ]
    }
   ],
   "source": [
    "#two parameters\n",
    "\n",
    "def py_n_cpp_lovers(name1, name2):\n",
    "    print(name1 + \" loves python, but \" + name2 + \" loves cpp\")\n",
    "    \n",
    "py_n_cpp_lovers(\"Anik\", \"Nick\")"
   ]
  },
  {
   "cell_type": "code",
   "execution_count": 12,
   "metadata": {},
   "outputs": [
    {
     "name": "stdout",
     "output_type": "stream",
     "text": [
      "Hello Alina\n"
     ]
    }
   ],
   "source": [
    "def functions(*name1):\n",
    "    print(\"Hello \" + name1[2])\n",
    "    \n",
    "functions(\"Anik\", \"Alex\", \"Alina\", \"Josh\")"
   ]
  },
  {
   "cell_type": "code",
   "execution_count": 13,
   "metadata": {},
   "outputs": [
    {
     "name": "stdout",
     "output_type": "stream",
     "text": [
      "Hello, Alex\n"
     ]
    }
   ],
   "source": [
    "def function_one(name3, name2, name1):\n",
    "    print(\"Hello, \" + name2)\n",
    "    \n",
    "function_one(name1 = \"Anik\", name3 = \"Nick\", name2 = \"Alex\")"
   ]
  },
  {
   "cell_type": "code",
   "execution_count": 20,
   "metadata": {},
   "outputs": [
    {
     "name": "stdout",
     "output_type": "stream",
     "text": [
      "Hello Anik\n"
     ]
    }
   ],
   "source": [
    "#why it only works for strings??\n",
    "\n",
    "def function_two(**name):\n",
    "    print(\"Hello \" + name[\"lastname\"])\n",
    "    \n",
    "function_two(firstname = \"Mohammad\", lastname = \"Anik\")"
   ]
  },
  {
   "cell_type": "code",
   "execution_count": 26,
   "metadata": {},
   "outputs": [
    {
     "name": "stdout",
     "output_type": "stream",
     "text": [
      "Apple\n",
      "Banana\n",
      "Cherry\n",
      "Dates\n"
     ]
    }
   ],
   "source": [
    "def function_three(foods):\n",
    "    for x in foods:\n",
    "        print(x)\n",
    "        \n",
    "fruits = [\"Apple\", \"Banana\", \"Cherry\", \"Dates\"]\n",
    "\n",
    "function_three(fruits)"
   ]
  },
  {
   "cell_type": "code",
   "execution_count": 30,
   "metadata": {},
   "outputs": [
    {
     "name": "stdout",
     "output_type": "stream",
     "text": [
      "100\n"
     ]
    },
    {
     "data": {
      "text/plain": [
       "400"
      ]
     },
     "execution_count": 30,
     "metadata": {},
     "output_type": "execute_result"
    }
   ],
   "source": [
    "def function_four(x):\n",
    "    return 10 * x\n",
    "\n",
    "print(function_four(10))\n",
    "function_four(40)"
   ]
  },
  {
   "cell_type": "code",
   "execution_count": 36,
   "metadata": {},
   "outputs": [
    {
     "name": "stdout",
     "output_type": "stream",
     "text": [
      "Passing...\n"
     ]
    }
   ],
   "source": [
    "def pass_func():\n",
    "    pass\n",
    "    print(\"Passing...\")\n",
    "    \n",
    "pass_func()"
   ]
  },
  {
   "cell_type": "code",
   "execution_count": 43,
   "metadata": {},
   "outputs": [
    {
     "name": "stdout",
     "output_type": "stream",
     "text": [
      "Hello\n"
     ]
    }
   ],
   "source": [
    "#recursion\n",
    "\n",
    "def rec_func():\n",
    "    print(\"Hello\")\n",
    "    #rec_func()\n",
    "    \n",
    "rec_func()"
   ]
  },
  {
   "cell_type": "code",
   "execution_count": 45,
   "metadata": {},
   "outputs": [
    {
     "name": "stdout",
     "output_type": "stream",
     "text": [
      "Hello from a function\n"
     ]
    }
   ],
   "source": [
    "def hello():\n",
    "    print(\"Hello from a function\")\n",
    "    \n",
    "hello()"
   ]
  },
  {
   "cell_type": "code",
   "execution_count": 46,
   "metadata": {},
   "outputs": [
    {
     "name": "stdout",
     "output_type": "stream",
     "text": [
      "Hello from a function\n"
     ]
    }
   ],
   "source": [
    "def my_function():\n",
    "\n",
    "  print(\"Hello from a function\")\n",
    "\n",
    "my_function()"
   ]
  },
  {
   "cell_type": "code",
   "execution_count": 48,
   "metadata": {},
   "outputs": [
    {
     "name": "stdout",
     "output_type": "stream",
     "text": [
      "Leena\n"
     ]
    }
   ],
   "source": [
    "def my_function(fname, lname):\n",
    "  print(fname)\n",
    "\n",
    "my_function(\"Leena\", \"Josh\")"
   ]
  },
  {
   "cell_type": "code",
   "execution_count": 49,
   "metadata": {},
   "outputs": [
    {
     "data": {
      "text/plain": [
       "15"
      ]
     },
     "execution_count": 49,
     "metadata": {},
     "output_type": "execute_result"
    }
   ],
   "source": [
    "def my_function(x):\n",
    "    return x + 5\n",
    "\n",
    "my_function(10)"
   ]
  },
  {
   "cell_type": "code",
   "execution_count": 53,
   "metadata": {},
   "outputs": [
    {
     "name": "stdout",
     "output_type": "stream",
     "text": [
      "The youngest child is Alex\n"
     ]
    }
   ],
   "source": [
    "def my_function(*kids):\n",
    "  print(\"The youngest child is \" + kids[2])\n",
    "\n",
    "my_function(\"Josh\", \"Leena\", \"Alex\")"
   ]
  },
  {
   "cell_type": "code",
   "execution_count": 2,
   "metadata": {},
   "outputs": [
    {
     "name": "stdout",
     "output_type": "stream",
     "text": [
      "His last name is Alder\n"
     ]
    }
   ],
   "source": [
    "def my_function(**kid):\n",
    "  print(\"His last name is \" + kid[\"lname\"])\n",
    "\n",
    "my_function(lname = \"Alder\")"
   ]
  },
  {
   "cell_type": "code",
   "execution_count": null,
   "metadata": {},
   "outputs": [],
   "source": []
  }
 ],
 "metadata": {
  "kernelspec": {
   "display_name": "Python 3",
   "language": "python",
   "name": "python3"
  },
  "language_info": {
   "codemirror_mode": {
    "name": "ipython",
    "version": 3
   },
   "file_extension": ".py",
   "mimetype": "text/x-python",
   "name": "python",
   "nbconvert_exporter": "python",
   "pygments_lexer": "ipython3",
   "version": "3.8.5"
  }
 },
 "nbformat": 4,
 "nbformat_minor": 4
}
