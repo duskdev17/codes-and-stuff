{
 "cells": [
  {
   "cell_type": "code",
   "execution_count": 3,
   "metadata": {},
   "outputs": [
    {
     "name": "stdout",
     "output_type": "stream",
     "text": [
      "232\n",
      "<class 'int'>\n",
      "23.43\n",
      "<class 'float'>\n",
      "3j\n",
      "<class 'complex'>\n"
     ]
    }
   ],
   "source": [
    "#Python Numbers\n",
    "#int, float, complex\n",
    "\n",
    "#int\n",
    "a = 232\n",
    "print(a)\n",
    "print(type(a))\n",
    "\n",
    "#float\n",
    "b = 23.43\n",
    "print(b)\n",
    "print(type(b))\n",
    "\n",
    "#complex\n",
    "c = 3j\n",
    "print(c)\n",
    "print(type(c))"
   ]
  },
  {
   "cell_type": "code",
   "execution_count": 4,
   "metadata": {},
   "outputs": [
    {
     "name": "stdout",
     "output_type": "stream",
     "text": [
      "<class 'int'>\n",
      "<class 'int'>\n",
      "<class 'int'>\n"
     ]
    }
   ],
   "source": [
    "d = 32434354454\n",
    "e = -545454454\n",
    "f = 0\n",
    "\n",
    "print(type(d))\n",
    "print(type(e))\n",
    "print(type(f))"
   ]
  },
  {
   "cell_type": "code",
   "execution_count": 5,
   "metadata": {},
   "outputs": [
    {
     "name": "stdout",
     "output_type": "stream",
     "text": [
      "<class 'float'>\n",
      "<class 'float'>\n",
      "<class 'float'>\n"
     ]
    }
   ],
   "source": [
    "g = 5.65\n",
    "h = 0.0\n",
    "i = -34.43\n",
    "\n",
    "print(type(g))\n",
    "print(type(h))\n",
    "print(type(i))"
   ]
  },
  {
   "cell_type": "code",
   "execution_count": 6,
   "metadata": {},
   "outputs": [
    {
     "name": "stdout",
     "output_type": "stream",
     "text": [
      "<class 'float'>\n",
      "<class 'float'>\n",
      "<class 'float'>\n"
     ]
    }
   ],
   "source": [
    "j = 43e32\n",
    "k = 32E9\n",
    "l = -34.54e7\n",
    "\n",
    "print(type(j))\n",
    "print(type(k))\n",
    "print(type(l))"
   ]
  },
  {
   "cell_type": "code",
   "execution_count": 7,
   "metadata": {},
   "outputs": [
    {
     "name": "stdout",
     "output_type": "stream",
     "text": [
      "<class 'complex'>\n",
      "<class 'complex'>\n",
      "<class 'complex'>\n"
     ]
    }
   ],
   "source": [
    "m = 3 + 1j\n",
    "n = 2 + 3j\n",
    "o = 4 + 2j\n",
    "\n",
    "print(type(m))\n",
    "print(type(m))\n",
    "print(type(o))"
   ]
  },
  {
   "cell_type": "code",
   "execution_count": 10,
   "metadata": {},
   "outputs": [
    {
     "name": "stdout",
     "output_type": "stream",
     "text": [
      "2.0\n",
      "32\n",
      "(232+0j)\n"
     ]
    }
   ],
   "source": [
    "#convert from int to float\n",
    "p = float(2)\n",
    "\n",
    "#convert from float to int\n",
    "q = int(32.32)\n",
    "\n",
    "#convert from int to complex\n",
    "x = 232\n",
    "r = complex(x)\n",
    "\n",
    "print(p)\n",
    "print(q)\n",
    "print(r)"
   ]
  },
  {
   "cell_type": "code",
   "execution_count": 3,
   "metadata": {},
   "outputs": [
    {
     "name": "stdout",
     "output_type": "stream",
     "text": [
      "4\n"
     ]
    }
   ],
   "source": [
    "#Random Numbers\n",
    "\n",
    "import random\n",
    "\n",
    "print(random.randrange(1, 100))"
   ]
  }
 ],
 "metadata": {
  "kernelspec": {
   "display_name": "Python 3",
   "language": "python",
   "name": "python3"
  },
  "language_info": {
   "codemirror_mode": {
    "name": "ipython",
    "version": 3
   },
   "file_extension": ".py",
   "mimetype": "text/x-python",
   "name": "python",
   "nbconvert_exporter": "python",
   "pygments_lexer": "ipython3",
   "version": "3.8.5"
  }
 },
 "nbformat": 4,
 "nbformat_minor": 4
}
