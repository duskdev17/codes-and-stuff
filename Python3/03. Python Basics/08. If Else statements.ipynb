{
 "cells": [
  {
   "cell_type": "code",
   "execution_count": 1,
   "metadata": {},
   "outputs": [
    {
     "name": "stdout",
     "output_type": "stream",
     "text": [
      "x is greater than 100\n"
     ]
    }
   ],
   "source": [
    "x = 200\n",
    "\n",
    "if x > 100:\n",
    "    print(\"x is greater than 100\")\n",
    "else:\n",
    "    print(\"not greater than 100\")"
   ]
  },
  {
   "cell_type": "code",
   "execution_count": 6,
   "metadata": {},
   "outputs": [
    {
     "name": "stdout",
     "output_type": "stream",
     "text": [
      "x is greater than 100\n",
      "x is greater than 150\n",
      "x is greater than 175\n",
      "Instead this got executed\n"
     ]
    }
   ],
   "source": [
    "x = 200\n",
    "\n",
    "if x > 100:\n",
    "    print(\"x is greater than 100\")\n",
    "    if x > 150:\n",
    "        print(\"x is greater than 150\")\n",
    "        if x > 175:\n",
    "            print(\"x is greater than 175\")\n",
    "            if x > 200:\n",
    "                print(\"Finally, it shouldn't be executed\")\n",
    "            else:\n",
    "                print(\"Instead this got executed\")"
   ]
  },
  {
   "cell_type": "code",
   "execution_count": 18,
   "metadata": {},
   "outputs": [],
   "source": [
    "a = 1\n",
    "b = 4\n",
    "\n",
    "if a>b:\n",
    "    pass"
   ]
  },
  {
   "cell_type": "code",
   "execution_count": 22,
   "metadata": {},
   "outputs": [
    {
     "name": "stdout",
     "output_type": "stream",
     "text": [
      "Hello World\n"
     ]
    }
   ],
   "source": [
    "a = 50\n",
    "b = 10\n",
    "\n",
    "if a>b:\n",
    " print(\"Hello World\")"
   ]
  },
  {
   "cell_type": "code",
   "execution_count": 24,
   "metadata": {},
   "outputs": [
    {
     "name": "stdout",
     "output_type": "stream",
     "text": [
      "No\n"
     ]
    }
   ],
   "source": [
    "a = 50\n",
    "b = 10\n",
    "\n",
    "if a == b:\n",
    " print(\"Yes\")\n",
    "else:\n",
    "  print(\"No\")"
   ]
  },
  {
   "cell_type": "code",
   "execution_count": 26,
   "metadata": {},
   "outputs": [
    {
     "name": "stdout",
     "output_type": "stream",
     "text": [
      "2\n"
     ]
    }
   ],
   "source": [
    "a = 50\n",
    "\n",
    "b = 10\n",
    "\n",
    "if a == b:\n",
    "\n",
    "  print(\"1\")\n",
    "\n",
    "elif a > b:\n",
    "\n",
    "  print(\"2\")\n",
    "\n",
    "else:\n",
    "\n",
    "  print(\"3\")"
   ]
  },
  {
   "cell_type": "code",
   "execution_count": 27,
   "metadata": {},
   "outputs": [],
   "source": [
    "if a == b and c == d:\n",
    "\n",
    "  print(\"Hello\")"
   ]
  },
  {
   "cell_type": "code",
   "execution_count": null,
   "metadata": {},
   "outputs": [],
   "source": []
  }
 ],
 "metadata": {
  "kernelspec": {
   "display_name": "Python 3",
   "language": "python",
   "name": "python3"
  },
  "language_info": {
   "codemirror_mode": {
    "name": "ipython",
    "version": 3
   },
   "file_extension": ".py",
   "mimetype": "text/x-python",
   "name": "python",
   "nbconvert_exporter": "python",
   "pygments_lexer": "ipython3",
   "version": "3.8.5"
  }
 },
 "nbformat": 4,
 "nbformat_minor": 4
}
