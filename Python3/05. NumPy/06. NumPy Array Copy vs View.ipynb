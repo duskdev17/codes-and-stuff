{
 "cells": [
  {
   "cell_type": "code",
   "execution_count": 2,
   "metadata": {},
   "outputs": [
    {
     "name": "stdout",
     "output_type": "stream",
     "text": [
      "[10  2  3  4  6]\n",
      "[1 2 3 4 6]\n"
     ]
    }
   ],
   "source": [
    "#COPY:\n",
    "import numpy as np\n",
    "\n",
    "arr = np.array([1, 2, 3, 4, 6])\n",
    "cpyArr = arr.copy()\n",
    "\n",
    "arr[0] = 10\n",
    "\n",
    "print(arr)\n",
    "print(cpyArr)"
   ]
  },
  {
   "cell_type": "code",
   "execution_count": 6,
   "metadata": {},
   "outputs": [
    {
     "name": "stdout",
     "output_type": "stream",
     "text": [
      "[9 2 3 4 6]\n",
      "[9 2 3 4 6]\n"
     ]
    }
   ],
   "source": [
    "#VIEW:\n",
    "import numpy as np\n",
    "\n",
    "arr = np.array([1, 2, 3, 4, 6])\n",
    "viewArr = arr.view()\n",
    "\n",
    "arr[0] = 9\n",
    "\n",
    "print(arr)\n",
    "print(viewArr)"
   ]
  },
  {
   "cell_type": "code",
   "execution_count": 9,
   "metadata": {},
   "outputs": [
    {
     "name": "stdout",
     "output_type": "stream",
     "text": [
      "None\n",
      "[1 3 2 4 7]\n"
     ]
    }
   ],
   "source": [
    "#Check if Array Owns it's Data\n",
    "import numpy as np\n",
    "\n",
    "arr = np.array([1, 3, 2, 4, 7])\n",
    "\n",
    "x = arr.copy()\n",
    "y = arr.view()\n",
    "\n",
    "print(x.base)\n",
    "print(y.base)"
   ]
  },
  {
   "cell_type": "code",
   "execution_count": null,
   "metadata": {},
   "outputs": [],
   "source": []
  }
 ],
 "metadata": {
  "kernelspec": {
   "display_name": "Python 3",
   "language": "python",
   "name": "python3"
  },
  "language_info": {
   "codemirror_mode": {
    "name": "ipython",
    "version": 3
   },
   "file_extension": ".py",
   "mimetype": "text/x-python",
   "name": "python",
   "nbconvert_exporter": "python",
   "pygments_lexer": "ipython3",
   "version": "3.8.5"
  }
 },
 "nbformat": 4,
 "nbformat_minor": 4
}
