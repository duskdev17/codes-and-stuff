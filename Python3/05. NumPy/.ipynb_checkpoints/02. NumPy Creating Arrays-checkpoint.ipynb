{
 "cells": [
  {
   "cell_type": "code",
   "execution_count": 5,
   "metadata": {},
   "outputs": [
    {
     "name": "stdout",
     "output_type": "stream",
     "text": [
      "[ 23 342  43]\n"
     ]
    }
   ],
   "source": [
    "import numpy as np \n",
    "\n",
    "data = np.array((23, 342, 43))\n",
    "\n",
    "print(data)"
   ]
  },
  {
   "cell_type": "code",
   "execution_count": 8,
   "metadata": {},
   "outputs": [
    {
     "name": "stdout",
     "output_type": "stream",
     "text": [
      "[21 32 31 30 23 32 21]\n"
     ]
    }
   ],
   "source": [
    "#1D array\n",
    "import numpy as np\n",
    "\n",
    "data2 = np.array([21, 32, 31, 30, 23, 32, 21])\n",
    "\n",
    "print(data2)"
   ]
  },
  {
   "cell_type": "code",
   "execution_count": 16,
   "metadata": {},
   "outputs": [
    {
     "name": "stdout",
     "output_type": "stream",
     "text": [
      "[[21 32 11 32]\n",
      " [21 32 54 34]\n",
      " [32 32 43 32]]\n",
      "\n",
      "Dimension of the array:  2\n"
     ]
    }
   ],
   "source": [
    "#3d array\n",
    "import numpy as np\n",
    "\n",
    "data3 = np.array([[21, 32, 11, 32], [21, 32, 54, 34], [32, 32, 43, 32]])\n",
    "\n",
    "print(data3)\n",
    "print(\"\\nDimension of the array: \",data3.ndim)"
   ]
  },
  {
   "cell_type": "code",
   "execution_count": 23,
   "metadata": {},
   "outputs": [
    {
     "name": "stdout",
     "output_type": "stream",
     "text": [
      "[[[[[1 2 3 4]]]]]\n",
      "number of dimensions : 5\n"
     ]
    }
   ],
   "source": [
    "import numpy as np\n",
    "\n",
    "arr = np.array([1, 2, 3, 4], ndmin=5)\n",
    "\n",
    "print(arr)\n",
    "print('number of dimensions: ', arr.ndim)"
   ]
  },
  {
   "cell_type": "code",
   "execution_count": 27,
   "metadata": {},
   "outputs": [
    {
     "name": "stdout",
     "output_type": "stream",
     "text": [
      "[[[21 32 34]]]\n",
      "Number of dimensions:  3\n"
     ]
    }
   ],
   "source": [
    "import numpy as np\n",
    "\n",
    "data4 = np.array([21, 32, 34], ndmin = 3)\n",
    "\n",
    "print(data4)\n",
    "print(\"Number of dimensions: \", data4.ndim)"
   ]
  },
  {
   "cell_type": "code",
   "execution_count": null,
   "metadata": {},
   "outputs": [],
   "source": []
  }
 ],
 "metadata": {
  "kernelspec": {
   "display_name": "Python 3",
   "language": "python",
   "name": "python3"
  },
  "language_info": {
   "codemirror_mode": {
    "name": "ipython",
    "version": 3
   },
   "file_extension": ".py",
   "mimetype": "text/x-python",
   "name": "python",
   "nbconvert_exporter": "python",
   "pygments_lexer": "ipython3",
   "version": "3.8.5"
  }
 },
 "nbformat": 4,
 "nbformat_minor": 4
}
