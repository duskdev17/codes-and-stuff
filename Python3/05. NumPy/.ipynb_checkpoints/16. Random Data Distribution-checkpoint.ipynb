{
 "cells": [
  {
   "cell_type": "code",
   "execution_count": 1,
   "metadata": {},
   "outputs": [
    {
     "name": "stdout",
     "output_type": "stream",
     "text": [
      "[7 7 7 7 3 3 7 7 7 7 5 7 5 7 7 5 7 7 5 5 7 5 5 7 7 5 5 3 7 3 7 3 7 5 7 7 7\n",
      " 7 7 3 5 7 5 7 7 7 7 7 7 7 5 7 7 5 7 5 7 7 7 7 7 5 5 7 3 7 5 7 3 7 7 7 3 7\n",
      " 7 5 7 5 5 7 5 7 7 7 7 7 7 7 3 5 7 5 7 5 7 7 5 7 7 5]\n"
     ]
    }
   ],
   "source": [
    "from numpy import random\n",
    "\n",
    "x = random.choice([3, 5, 7, 9], p=[0.1, 0.3, 0.6, 0.0], size=(100))\n",
    "\n",
    "print(x)"
   ]
  },
  {
   "cell_type": "code",
   "execution_count": 6,
   "metadata": {},
   "outputs": [
    {
     "name": "stdout",
     "output_type": "stream",
     "text": [
      "[20 20 20 20 16 16 20 16 16 20]\n"
     ]
    }
   ],
   "source": [
    "from numpy import random \n",
    "\n",
    "y = random.choice([10, 12, 16, 20], p=[0.0, 0.1, 0.2, 0.7], size=(10))\n",
    "\n",
    "print(y)"
   ]
  },
  {
   "cell_type": "code",
   "execution_count": 7,
   "metadata": {},
   "outputs": [
    {
     "name": "stdout",
     "output_type": "stream",
     "text": [
      "[[7 5 7 5 7]\n",
      " [7 7 5 7 5]\n",
      " [7 5 7 7 7]]\n"
     ]
    }
   ],
   "source": [
    "from numpy import random\n",
    "\n",
    "x = random.choice([3, 5, 7, 9], p=[0.1, 0.3, 0.6, 0.0], size=(3, 5))\n",
    "\n",
    "print(x)"
   ]
  },
  {
   "cell_type": "code",
   "execution_count": null,
   "metadata": {},
   "outputs": [],
   "source": []
  }
 ],
 "metadata": {
  "kernelspec": {
   "display_name": "Python 3",
   "language": "python",
   "name": "python3"
  },
  "language_info": {
   "codemirror_mode": {
    "name": "ipython",
    "version": 3
   },
   "file_extension": ".py",
   "mimetype": "text/x-python",
   "name": "python",
   "nbconvert_exporter": "python",
   "pygments_lexer": "ipython3",
   "version": "3.8.5"
  }
 },
 "nbformat": 4,
 "nbformat_minor": 4
}
