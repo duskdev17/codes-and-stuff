{
 "cells": [
  {
   "cell_type": "code",
   "execution_count": 2,
   "metadata": {},
   "outputs": [
    {
     "name": "stdout",
     "output_type": "stream",
     "text": [
      "55\n"
     ]
    }
   ],
   "source": [
    "import numpy as np\n",
    "\n",
    "data1 = np.array([21, 32, 34])\n",
    "\n",
    "print(data1[2] + data1[0])"
   ]
  },
  {
   "cell_type": "code",
   "execution_count": 16,
   "metadata": {},
   "outputs": [
    {
     "name": "stdout",
     "output_type": "stream",
     "text": [
      "Element of 2nd row 4th column:  31\n",
      "Element of 3rd row 4th column:  56\n"
     ]
    }
   ],
   "source": [
    "#Access 1-D Arrays\n",
    "import numpy as np\n",
    "\n",
    "data2 = np.array([[21, 11, 54, 92], \n",
    "                  [65, 19, 40, 31], \n",
    "                  [32, 34, 71, 56]])\n",
    "\n",
    "print(\"Element of 2nd row 4th column: \", data2[1, 3])\n",
    "print(\"Element of 3rd row 4th column: \", data2[2, 3])"
   ]
  },
  {
   "cell_type": "code",
   "execution_count": 23,
   "metadata": {},
   "outputs": [
    {
     "name": "stdout",
     "output_type": "stream",
     "text": [
      "22\n",
      "3\n"
     ]
    }
   ],
   "source": [
    "#acces 3D arrays\n",
    "import numpy as np\n",
    "\n",
    "data3 = np.array([[[1, 2, 3, 4], [5, 6, 7, 8], [9, 10, 11, 12]],\n",
    "                  [[13, 14, 15, 16], [17, 18, 19, 20], [21, 22, 23, 24]]])\n",
    "\n",
    "print(data3[1, 2, 1])\n",
    "print(data3.ndim)"
   ]
  }
 ],
 "metadata": {
  "kernelspec": {
   "display_name": "Python 3",
   "language": "python",
   "name": "python3"
  },
  "language_info": {
   "codemirror_mode": {
    "name": "ipython",
    "version": 3
   },
   "file_extension": ".py",
   "mimetype": "text/x-python",
   "name": "python",
   "nbconvert_exporter": "python",
   "pygments_lexer": "ipython3",
   "version": "3.8.5"
  }
 },
 "nbformat": 4,
 "nbformat_minor": 4
}
