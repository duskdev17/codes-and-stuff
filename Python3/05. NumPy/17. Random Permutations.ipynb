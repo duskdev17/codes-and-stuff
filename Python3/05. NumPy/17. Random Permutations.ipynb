{
 "cells": [
  {
   "cell_type": "code",
   "execution_count": 4,
   "metadata": {},
   "outputs": [
    {
     "name": "stdout",
     "output_type": "stream",
     "text": [
      "[6 4 1 3]\n"
     ]
    }
   ],
   "source": [
    "#The shuffle() method makes changes to the original array.\n",
    "\n",
    "import numpy as np\n",
    "from numpy import random\n",
    "\n",
    "arr = np.array([1, 3, 4, 6])\n",
    "\n",
    "random.shuffle(arr)\n",
    "\n",
    "print(arr)"
   ]
  },
  {
   "cell_type": "code",
   "execution_count": 9,
   "metadata": {},
   "outputs": [
    {
     "name": "stdout",
     "output_type": "stream",
     "text": [
      "[6 3 1 4]\n"
     ]
    }
   ],
   "source": [
    "#The permutation() method returns a re-arranged array (and leaves the original array un-changed).\n",
    "\n",
    "import numpy as np\n",
    "from numpy import random\n",
    "\n",
    "arr = np.array([1, 3, 4, 6])\n",
    "\n",
    "print(random.permutation(arr))"
   ]
  },
  {
   "cell_type": "code",
   "execution_count": null,
   "metadata": {},
   "outputs": [],
   "source": []
  }
 ],
 "metadata": {
  "kernelspec": {
   "display_name": "Python 3",
   "language": "python",
   "name": "python3"
  },
  "language_info": {
   "codemirror_mode": {
    "name": "ipython",
    "version": 3
   },
   "file_extension": ".py",
   "mimetype": "text/x-python",
   "name": "python",
   "nbconvert_exporter": "python",
   "pygments_lexer": "ipython3",
   "version": "3.8.5"
  }
 },
 "nbformat": 4,
 "nbformat_minor": 4
}
