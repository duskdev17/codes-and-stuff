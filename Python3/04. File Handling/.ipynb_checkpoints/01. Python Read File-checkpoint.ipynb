{
 "cells": [
  {
   "cell_type": "code",
   "execution_count": 20,
   "metadata": {},
   "outputs": [
    {
     "name": "stdout",
     "output_type": "stream",
     "text": [
      "this is file1 created for testing purposes..\n"
     ]
    }
   ],
   "source": [
    "open_var = open(\"file1.txt\", \"r\")\n",
    "\n",
    "print(open_var.read())"
   ]
  },
  {
   "cell_type": "code",
   "execution_count": 28,
   "metadata": {},
   "outputs": [
    {
     "name": "stdout",
     "output_type": "stream",
     "text": [
      "this is file2 created for testing purposes..\n",
      "\n",
      "This is another line\n"
     ]
    }
   ],
   "source": [
    "f = open(\"file2.txt\", \"r\")\n",
    "\n",
    "print(f.readline())\n",
    "print(f.readline())"
   ]
  },
  {
   "cell_type": "code",
   "execution_count": 30,
   "metadata": {},
   "outputs": [
    {
     "name": "stdout",
     "output_type": "stream",
     "text": [
      "this is file2 created for testing purposes..\n",
      "\n",
      "This is another line\n",
      "\n",
      "This is line 3\n",
      "\n"
     ]
    }
   ],
   "source": [
    "f2 = open(\"file2.txt\", \"r\")\n",
    "for x in f2:\n",
    "  print(x)\n",
    "\n",
    "f2.close()"
   ]
  },
  {
   "cell_type": "code",
   "execution_count": null,
   "metadata": {},
   "outputs": [],
   "source": []
  }
 ],
 "metadata": {
  "kernelspec": {
   "display_name": "Python 3",
   "language": "python",
   "name": "python3"
  },
  "language_info": {
   "codemirror_mode": {
    "name": "ipython",
    "version": 3
   },
   "file_extension": ".py",
   "mimetype": "text/x-python",
   "name": "python",
   "nbconvert_exporter": "python",
   "pygments_lexer": "ipython3",
   "version": "3.8.5"
  }
 },
 "nbformat": 4,
 "nbformat_minor": 4
}
